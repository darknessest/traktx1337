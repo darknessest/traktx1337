{
 "cells": [
  {
   "cell_type": "markdown",
   "metadata": {},
   "source": [
    "## Do the _search_ on the tracker"
   ]
  },
  {
   "cell_type": "markdown",
   "metadata": {},
   "source": [
    "# Selenium Part"
   ]
  },
  {
   "cell_type": "code",
   "execution_count": 2,
   "metadata": {
    "pycharm": {
     "is_executing": false
    }
   },
   "outputs": [],
   "source": [
    "import os\n",
    "import configparser\n",
    "from selenium import webdriver\n",
    "from selenium.webdriver.chrome.options import Options\n",
    "from bs4 import BeautifulSoup\n",
    "import pandas as pd\n",
    "from selenium.webdriver.chrome.options import Options\n",
    "from selenium.webdriver.common.by import By\n",
    "from selenium.common.exceptions import NoSuchElementException, TimeoutException, WebDriverException\n",
    "from selenium.webdriver.support.wait import WebDriverWait\n",
    "from selenium.webdriver.support import expected_conditions as EC"
   ]
  },
  {
   "cell_type": "code",
   "execution_count": 3,
   "metadata": {
    "pycharm": {
     "is_executing": false
    }
   },
   "outputs": [],
   "source": [
    "def waitForElement(driver, by_what=By.XPATH, element_info='', delay=20, do_quit=True):\n",
    "    try:\n",
    "        elem = WebDriverWait(driver, delay).until(EC.presence_of_element_located((by_what, element_info)))\n",
    "        print(\"Page is ready!\")\n",
    "        return elem\n",
    "    except TimeoutException:\n",
    "        print(\"Loading took too much time!\")\n",
    "        print(\"quiting while waiting for element:\", element_info)\n",
    "        if do_quit:\n",
    "            driver.quit()\n",
    "        return None"
   ]
  },
  {
   "cell_type": "code",
   "execution_count": null,
   "outputs": [],
   "source": [
    "config = configparser.ConfigParser()\n",
    "config.read('config.ini')"
   ],
   "metadata": {
    "collapsed": false,
    "pycharm": {
     "name": "#%%\n"
    }
   }
  },
  {
   "cell_type": "code",
   "execution_count": 4,
   "metadata": {
    "pycharm": {
     "is_executing": false
    }
   },
   "outputs": [],
   "source": [
    "DRIVER_PATH = config['DRIVER']['path']\n",
    "driver = webdriver.Chrome(executable_path=DRIVER_PATH)"
   ]
  },
  {
   "cell_type": "code",
   "execution_count": 5,
   "metadata": {
    "pycharm": {
     "is_executing": false
    }
   },
   "outputs": [
    {
     "name": "stdout",
     "text": [
      "Page is ready!\n"
     ],
     "output_type": "stream"
    },
    {
     "data": {
      "text/plain": "<selenium.webdriver.remote.webelement.WebElement (session=\"3b73af4650eaad17b05a281533ee43ec\", element=\"556234ac-607c-4f15-a5bb-d612ba95d299\")>"
     },
     "metadata": {},
     "output_type": "execute_result",
     "execution_count": 5
    }
   ],
   "source": [
    "tv_show =\"westworld s03e04\"\n",
    "tv_show = tv_show.replace(' ', '+')\n",
    "\n",
    "driver.get('https://1337x.gd/search/' + tv_show + '/1/')\n",
    "waitForElement(driver, element_info=\"//div[contains(@class,'table-list-wrap')]\")"
   ]
  },
  {
   "cell_type": "markdown",
   "metadata": {},
   "source": [
    "Passing to beautifulsoup"
   ]
  },
  {
   "cell_type": "code",
   "execution_count": 6,
   "metadata": {
    "pycharm": {
     "is_executing": false
    }
   },
   "outputs": [],
   "source": [
    "raw_page = BeautifulSoup(driver.page_source, 'html.parser')\n",
    "# driver.close()"
   ]
  },
  {
   "cell_type": "markdown",
   "metadata": {},
   "source": [
    "Creating table header:"
   ]
  },
  {
   "cell_type": "code",
   "execution_count": 36,
   "metadata": {
    "pycharm": {
     "is_executing": false
    }
   },
   "outputs": [
    {
     "name": "stdout",
     "text": [
      "['name', 'se', 'le', 'time', 'size info', 'uploader', 'url']\n"
     ],
     "output_type": "stream"
    }
   ],
   "source": [
    "a = raw_page.find_all('tr')[0]\n",
    "\n",
    "row_marker = 0\n",
    "column_marker = 0\n",
    "col_names = []\n",
    "for b in a.find_all('th'):\n",
    "    col_names.append(b.get_text())\n",
    "    column_marker += 1\n",
    "\n",
    "col_names.append('url')  # assuming there's always some urls\n",
    "print(col_names)\n"
   ]
  },
  {
   "cell_type": "code",
   "execution_count": 37,
   "metadata": {
    "pycharm": {
     "is_executing": false
    }
   },
   "outputs": [],
   "source": [
    "def getTorrentLink(cell):\n",
    "    for x in cell.find_all('a', href=True):\n",
    "        if 'torrent/' in x['href']:\n",
    "            return x['href']"
   ]
  },
  {
   "cell_type": "code",
   "execution_count": 38,
   "metadata": {
    "pycharm": {
     "is_executing": false
    }
   },
   "outputs": [],
   "source": [
    "urls = []\n",
    "names = []\n",
    "ses = []\n",
    "les = []\n",
    "times = []\n",
    "sizes = []\n",
    "uploaders = []\n",
    "\n",
    "for row in raw_page.find_all('tr'):\n",
    "#     print('row: ', row)\n",
    "    max_col = len(row.find_all('td'))\n",
    "    i = 0\n",
    "    for col in row.find_all('td'):\n",
    "        if i == 0:\n",
    "            urls.append(getTorrentLink(col))\n",
    "#             print('url: ', getTorrentLink(col))\n",
    "            names.append(col.get_text())\n",
    "#             print('name: ', col.get_text())\n",
    "        if i == 1:\n",
    "            ses.append(col.get_text())\n",
    "#             print('se: ', col.get_text())\n",
    "        if i == 2:\n",
    "            les.append(col.get_text())\n",
    "#             print('le: ', col.get_text())\n",
    "        if i == 3:\n",
    "            times.append(col.get_text())\n",
    "#             print('time: ', col.get_text())\n",
    "        if i == 4:\n",
    "            sizes.append(col.get_text())\n",
    "#             print('size info: ', col.get_text())\n",
    "        if i == 5:\n",
    "            uploaders.append(col.get_text())\n",
    "#             print('uploader: ', col.get_text())\n",
    "        i += 1\n",
    "#     print()"
   ]
  },
  {
   "cell_type": "code",
   "execution_count": 39,
   "metadata": {
    "pycharm": {
     "is_executing": false
    }
   },
   "outputs": [],
   "source": [
    "curTorrentTable = pd.DataFrame(columns=col_names)"
   ]
  },
  {
   "cell_type": "code",
   "execution_count": 40,
   "metadata": {
    "pycharm": {
     "is_executing": false
    }
   },
   "outputs": [],
   "source": [
    "# print(curTorrentTable)"
   ]
  },
  {
   "cell_type": "code",
   "execution_count": 41,
   "metadata": {
    "pycharm": {
     "is_executing": false
    }
   },
   "outputs": [],
   "source": [
    "curTorrentTable['name'] = names\n",
    "curTorrentTable['se'] = ses\n",
    "curTorrentTable['le'] = les\n",
    "curTorrentTable['time'] = times\n",
    "curTorrentTable['size'] = sizes\n",
    "curTorrentTable['uploader'] = uploaders\n",
    "curTorrentTable['url'] = urls"
   ]
  },
  {
   "cell_type": "code",
   "execution_count": 42,
   "metadata": {
    "pycharm": {
     "is_executing": false
    }
   },
   "outputs": [
    {
     "name": "stdout",
     "text": [
      "                                                 name    se   le     time  \\\n",
      "0           Westworld S03E04 720p WEB H264-XLF [eztv]  1419  427   3:03am   \n",
      "1          Westworld.S03E04.1080p.WEB.H264-XLF[TGx] ⭐   974  399   3:11am   \n",
      "2   Westworld S03E04 The Mother of Exiles 720p AMZ...   823  206   3:32am   \n",
      "3                Westworld S03E04 WEB H264-XLF [eztv]   763  238   3:02am   \n",
      "4         Westworld.S03E04.720p.WEB.x265-MiNX[TGx] ⭐1   606  190   3:36am   \n",
      "5   Westworld.S03E04.The.Mother.of.Exiles.1080p.AM...   489  170   3:32am   \n",
      "6                 Westworld.S03E04.1080p.WEB.H264-XLF   401  231   7:40am   \n",
      "7               Westworld S03E04 480p x264-mSD [eztv]   385   92   3:11am   \n",
      "8   Westworld.S03E04.The.Mother.of.Exiles.1080p.AM...   359  374   7:40am   \n",
      "9                 Westworld.S03E04.WEB.H264-XLF[ettv]   378   61   3:05am   \n",
      "10                 Westworld.S03E04.720p.WEB.H264-XLF   296  107   7:39am   \n",
      "11          Westworld.S03E04.720p.WEB.H264-XLF[TGx] ⭐   151   15   3:03am   \n",
      "12                   Westworld.S03E04.XviD-AFG[TGx] ⭐    87   29   3:16am   \n",
      "13               Westworld.S03E04.WEB.H264-XLF[TGx] ⭐    67   13   3:02am   \n",
      "14  Westworld.S03E04.The.Mother.of.Exiles.720p.AMZ...    48   10   3:15am   \n",
      "15  Westworld.S03E04.The.Mother.of.Exiles.720p.AMZ...    43   20   7:40am   \n",
      "16                      Westworld.S03E04.WEB.H264-XLF    33    6   7:39am   \n",
      "17                 Westworld.S03E04.WEBRip.x264-ION10    14    5   7:42am   \n",
      "18  Westworld (2016) S03E04 The Mother of Exiles (...    15   17  10:41am   \n",
      "19  Westworld S03E04 (1080p AMZN WEB-DL x265 HEVC ...     7    6   7:38am   \n",
      "\n",
      "   size info    uploader                                                url  \\\n",
      "0        NaN      EZTVag  /torrent/4393077/Westworld-S03E04-720p-WEB-H26...   \n",
      "1        NaN  mazemaze16  /torrent/4393086/Westworld-S03E04-1080p-WEB-H2...   \n",
      "2        NaN      EZTVag  /torrent/4393103/Westworld-S03E04-The-Mother-o...   \n",
      "3        NaN      EZTVag  /torrent/4393075/Westworld-S03E04-WEB-H264-XLF...   \n",
      "4        NaN  mazemaze16  /torrent/4393106/Westworld-S03E04-720p-WEB-x26...   \n",
      "5        NaN  mazemaze16  /torrent/4393102/Westworld-S03E04-The-Mother-o...   \n",
      "6        NaN     MrStark  /torrent/4393389/Westworld-S03E04-1080p-WEB-H2...   \n",
      "7        NaN      EZTVag  /torrent/4393085/Westworld-S03E04-480p-x264-mS...   \n",
      "8        NaN     MrStark  /torrent/4393391/Westworld-S03E04-The-Mother-o...   \n",
      "9        NaN        ETTV  /torrent/4393082/Westworld-S03E04-WEB-H264-XLF...   \n",
      "10       NaN     MrStark  /torrent/4393388/Westworld-S03E04-720p-WEB-H26...   \n",
      "11       NaN  mazemaze16  /torrent/4393078/Westworld-S03E04-720p-WEB-H26...   \n",
      "12       NaN  mazemaze16    /torrent/4393089/Westworld-S03E04-XviD-AFG-TGx/   \n",
      "13       NaN  mazemaze16  /torrent/4393076/Westworld-S03E04-WEB-H264-XLF...   \n",
      "14       NaN  mazemaze16  /torrent/4393088/Westworld-S03E04-The-Mother-o...   \n",
      "15       NaN     MrStark  /torrent/4393390/Westworld-S03E04-The-Mother-o...   \n",
      "16       NaN     MrStark    /torrent/4393387/Westworld-S03E04-WEB-H264-XLF/   \n",
      "17       NaN     MrStark  /torrent/4393392/Westworld-S03E04-WEBRip-x264-...   \n",
      "18       NaN        Goki  /torrent/4393575/Westworld-2016-S03E04-The-Mot...   \n",
      "19       NaN     UTRCorp  /torrent/4393386/Westworld-S03E04-1080p-AMZN-W...   \n",
      "\n",
      "            size  \n",
      "0   896.1 MB1419  \n",
      "1      2.4 GB974  \n",
      "2    964.6 MB823  \n",
      "3    251.5 MB763  \n",
      "4    221.3 MB606  \n",
      "5      3.5 GB489  \n",
      "6      2.4 GB401  \n",
      "7    225.5 MB385  \n",
      "8      3.5 GB359  \n",
      "9    251.5 MB378  \n",
      "10   896.1 MB296  \n",
      "11   896.1 MB151  \n",
      "12    403.4 MB87  \n",
      "13    251.5 MB67  \n",
      "14    964.6 MB48  \n",
      "15    964.6 MB43  \n",
      "16    251.5 MB33  \n",
      "17    587.6 MB14  \n",
      "18      1.4 GB15  \n",
      "19       1.2 GB7  \n"
     ],
     "output_type": "stream"
    }
   ],
   "source": [
    "print(curTorrentTable)"
   ]
  },
  {
   "cell_type": "markdown",
   "metadata": {},
   "source": [
    "Casting types:"
   ]
  },
  {
   "cell_type": "code",
   "execution_count": 43,
   "metadata": {
    "pycharm": {
     "is_executing": false
    }
   },
   "outputs": [],
   "source": [
    "test = curTorrentTable.copy()\n",
    "test['size'] = test['size'].replace({r' GB[0-9]+' : r''}, regex=True)\n",
    "test['size'] = test['size'].apply(lambda x: x if ('MB' in x) else float(x)*1024)\n",
    "test['size'] = test['size'].replace({r' MB[0-9]+' : r''}, regex=True)\n",
    "test['size'] = test['size'].astype(float)\n",
    "\n",
    "test['se'] = test['se'].astype(int)\n",
    "test['le'] = test['le'].astype(int)\n",
    "test['time'] = pd.to_datetime(test['time'])"
   ]
  },
  {
   "cell_type": "code",
   "execution_count": 44,
   "metadata": {
    "pycharm": {
     "is_executing": false
    }
   },
   "outputs": [],
   "source": [
    "# good_links = test.loc[test.name.str.contains('1080p')]['url']"
   ]
  },
  {
   "cell_type": "code",
   "execution_count": 45,
   "metadata": {
    "pycharm": {
     "is_executing": false
    }
   },
   "outputs": [
    {
     "data": {
      "text/plain": "'/torrent/4393086/Westworld-S03E04-1080p-WEB-H264-XLF-TGx/'"
     },
     "metadata": {},
     "output_type": "execute_result",
     "execution_count": 45
    }
   ],
   "source": [
    "# test.loc[test.name.str.contains('1080p')]['url'].iloc[0]"
   ]
  },
  {
   "cell_type": "code",
   "execution_count": 46,
   "metadata": {
    "pycharm": {
     "is_executing": false
    }
   },
   "outputs": [
    {
     "traceback": [
      "\u001b[0;31m---------------------------------------------------------------------------\u001b[0m",
      "\u001b[0;31mKeyError\u001b[0m                                  Traceback (most recent call last)",
      "\u001b[0;32m~/miniconda/envs/social_network/lib/python3.7/site-packages/pandas/core/indexes/base.py\u001b[0m in \u001b[0;36mget_loc\u001b[0;34m(self, key, method, tolerance)\u001b[0m\n\u001b[1;32m   2645\u001b[0m             \u001b[0;32mtry\u001b[0m\u001b[0;34m:\u001b[0m\u001b[0;34m\u001b[0m\u001b[0;34m\u001b[0m\u001b[0m\n\u001b[0;32m-> 2646\u001b[0;31m                 \u001b[0;32mreturn\u001b[0m \u001b[0mself\u001b[0m\u001b[0;34m.\u001b[0m\u001b[0m_engine\u001b[0m\u001b[0;34m.\u001b[0m\u001b[0mget_loc\u001b[0m\u001b[0;34m(\u001b[0m\u001b[0mkey\u001b[0m\u001b[0;34m)\u001b[0m\u001b[0;34m\u001b[0m\u001b[0;34m\u001b[0m\u001b[0m\n\u001b[0m\u001b[1;32m   2647\u001b[0m             \u001b[0;32mexcept\u001b[0m \u001b[0mKeyError\u001b[0m\u001b[0;34m:\u001b[0m\u001b[0;34m\u001b[0m\u001b[0;34m\u001b[0m\u001b[0m\n",
      "\u001b[0;32mpandas/_libs/index.pyx\u001b[0m in \u001b[0;36mpandas._libs.index.IndexEngine.get_loc\u001b[0;34m()\u001b[0m\n",
      "\u001b[0;32mpandas/_libs/index.pyx\u001b[0m in \u001b[0;36mpandas._libs.index.IndexEngine.get_loc\u001b[0;34m()\u001b[0m\n",
      "\u001b[0;32mpandas/_libs/hashtable_class_helper.pxi\u001b[0m in \u001b[0;36mpandas._libs.hashtable.PyObjectHashTable.get_item\u001b[0;34m()\u001b[0m\n",
      "\u001b[0;32mpandas/_libs/hashtable_class_helper.pxi\u001b[0m in \u001b[0;36mpandas._libs.hashtable.PyObjectHashTable.get_item\u001b[0;34m()\u001b[0m\n",
      "\u001b[0;31mKeyError\u001b[0m: False",
      "\nDuring handling of the above exception, another exception occurred:\n",
      "\u001b[0;31mKeyError\u001b[0m                                  Traceback (most recent call last)",
      "\u001b[0;32m<ipython-input-46-215a2890ff2d>\u001b[0m in \u001b[0;36m<module>\u001b[0;34m\u001b[0m\n\u001b[0;32m----> 1\u001b[0;31m \u001b[0mindexNames\u001b[0m \u001b[0;34m=\u001b[0m \u001b[0mtest\u001b[0m\u001b[0;34m[\u001b[0m \u001b[0;34m(\u001b[0m\u001b[0;34m'720p'\u001b[0m \u001b[0;32min\u001b[0m \u001b[0mtest\u001b[0m\u001b[0;34m[\u001b[0m\u001b[0;34m'name'\u001b[0m\u001b[0;34m]\u001b[0m\u001b[0;34m)\u001b[0m\u001b[0;34m]\u001b[0m\u001b[0;34m.\u001b[0m\u001b[0mindex\u001b[0m\u001b[0;34m\u001b[0m\u001b[0;34m\u001b[0m\u001b[0m\n\u001b[0m\u001b[1;32m      2\u001b[0m \u001b[0mtest\u001b[0m\u001b[0;34m.\u001b[0m\u001b[0mdrop\u001b[0m\u001b[0;34m(\u001b[0m\u001b[0mindexNames\u001b[0m \u001b[0;34m,\u001b[0m \u001b[0minplace\u001b[0m\u001b[0;34m=\u001b[0m\u001b[0;32mFalse\u001b[0m\u001b[0;34m)\u001b[0m\u001b[0;34m\u001b[0m\u001b[0;34m\u001b[0m\u001b[0m\n\u001b[1;32m      3\u001b[0m \u001b[0;34m\u001b[0m\u001b[0m\n",
      "\u001b[0;32m~/miniconda/envs/social_network/lib/python3.7/site-packages/pandas/core/frame.py\u001b[0m in \u001b[0;36m__getitem__\u001b[0;34m(self, key)\u001b[0m\n\u001b[1;32m   2798\u001b[0m             \u001b[0;32mif\u001b[0m \u001b[0mself\u001b[0m\u001b[0;34m.\u001b[0m\u001b[0mcolumns\u001b[0m\u001b[0;34m.\u001b[0m\u001b[0mnlevels\u001b[0m \u001b[0;34m>\u001b[0m \u001b[0;36m1\u001b[0m\u001b[0;34m:\u001b[0m\u001b[0;34m\u001b[0m\u001b[0;34m\u001b[0m\u001b[0m\n\u001b[1;32m   2799\u001b[0m                 \u001b[0;32mreturn\u001b[0m \u001b[0mself\u001b[0m\u001b[0;34m.\u001b[0m\u001b[0m_getitem_multilevel\u001b[0m\u001b[0;34m(\u001b[0m\u001b[0mkey\u001b[0m\u001b[0;34m)\u001b[0m\u001b[0;34m\u001b[0m\u001b[0;34m\u001b[0m\u001b[0m\n\u001b[0;32m-> 2800\u001b[0;31m             \u001b[0mindexer\u001b[0m \u001b[0;34m=\u001b[0m \u001b[0mself\u001b[0m\u001b[0;34m.\u001b[0m\u001b[0mcolumns\u001b[0m\u001b[0;34m.\u001b[0m\u001b[0mget_loc\u001b[0m\u001b[0;34m(\u001b[0m\u001b[0mkey\u001b[0m\u001b[0;34m)\u001b[0m\u001b[0;34m\u001b[0m\u001b[0;34m\u001b[0m\u001b[0m\n\u001b[0m\u001b[1;32m   2801\u001b[0m             \u001b[0;32mif\u001b[0m \u001b[0mis_integer\u001b[0m\u001b[0;34m(\u001b[0m\u001b[0mindexer\u001b[0m\u001b[0;34m)\u001b[0m\u001b[0;34m:\u001b[0m\u001b[0;34m\u001b[0m\u001b[0;34m\u001b[0m\u001b[0m\n\u001b[1;32m   2802\u001b[0m                 \u001b[0mindexer\u001b[0m \u001b[0;34m=\u001b[0m \u001b[0;34m[\u001b[0m\u001b[0mindexer\u001b[0m\u001b[0;34m]\u001b[0m\u001b[0;34m\u001b[0m\u001b[0;34m\u001b[0m\u001b[0m\n",
      "\u001b[0;32m~/miniconda/envs/social_network/lib/python3.7/site-packages/pandas/core/indexes/base.py\u001b[0m in \u001b[0;36mget_loc\u001b[0;34m(self, key, method, tolerance)\u001b[0m\n\u001b[1;32m   2646\u001b[0m                 \u001b[0;32mreturn\u001b[0m \u001b[0mself\u001b[0m\u001b[0;34m.\u001b[0m\u001b[0m_engine\u001b[0m\u001b[0;34m.\u001b[0m\u001b[0mget_loc\u001b[0m\u001b[0;34m(\u001b[0m\u001b[0mkey\u001b[0m\u001b[0;34m)\u001b[0m\u001b[0;34m\u001b[0m\u001b[0;34m\u001b[0m\u001b[0m\n\u001b[1;32m   2647\u001b[0m             \u001b[0;32mexcept\u001b[0m \u001b[0mKeyError\u001b[0m\u001b[0;34m:\u001b[0m\u001b[0;34m\u001b[0m\u001b[0;34m\u001b[0m\u001b[0m\n\u001b[0;32m-> 2648\u001b[0;31m                 \u001b[0;32mreturn\u001b[0m \u001b[0mself\u001b[0m\u001b[0;34m.\u001b[0m\u001b[0m_engine\u001b[0m\u001b[0;34m.\u001b[0m\u001b[0mget_loc\u001b[0m\u001b[0;34m(\u001b[0m\u001b[0mself\u001b[0m\u001b[0;34m.\u001b[0m\u001b[0m_maybe_cast_indexer\u001b[0m\u001b[0;34m(\u001b[0m\u001b[0mkey\u001b[0m\u001b[0;34m)\u001b[0m\u001b[0;34m)\u001b[0m\u001b[0;34m\u001b[0m\u001b[0;34m\u001b[0m\u001b[0m\n\u001b[0m\u001b[1;32m   2649\u001b[0m         \u001b[0mindexer\u001b[0m \u001b[0;34m=\u001b[0m \u001b[0mself\u001b[0m\u001b[0;34m.\u001b[0m\u001b[0mget_indexer\u001b[0m\u001b[0;34m(\u001b[0m\u001b[0;34m[\u001b[0m\u001b[0mkey\u001b[0m\u001b[0;34m]\u001b[0m\u001b[0;34m,\u001b[0m \u001b[0mmethod\u001b[0m\u001b[0;34m=\u001b[0m\u001b[0mmethod\u001b[0m\u001b[0;34m,\u001b[0m \u001b[0mtolerance\u001b[0m\u001b[0;34m=\u001b[0m\u001b[0mtolerance\u001b[0m\u001b[0;34m)\u001b[0m\u001b[0;34m\u001b[0m\u001b[0;34m\u001b[0m\u001b[0m\n\u001b[1;32m   2650\u001b[0m         \u001b[0;32mif\u001b[0m \u001b[0mindexer\u001b[0m\u001b[0;34m.\u001b[0m\u001b[0mndim\u001b[0m \u001b[0;34m>\u001b[0m \u001b[0;36m1\u001b[0m \u001b[0;32mor\u001b[0m \u001b[0mindexer\u001b[0m\u001b[0;34m.\u001b[0m\u001b[0msize\u001b[0m \u001b[0;34m>\u001b[0m \u001b[0;36m1\u001b[0m\u001b[0;34m:\u001b[0m\u001b[0;34m\u001b[0m\u001b[0;34m\u001b[0m\u001b[0m\n",
      "\u001b[0;32mpandas/_libs/index.pyx\u001b[0m in \u001b[0;36mpandas._libs.index.IndexEngine.get_loc\u001b[0;34m()\u001b[0m\n",
      "\u001b[0;32mpandas/_libs/index.pyx\u001b[0m in \u001b[0;36mpandas._libs.index.IndexEngine.get_loc\u001b[0;34m()\u001b[0m\n",
      "\u001b[0;32mpandas/_libs/hashtable_class_helper.pxi\u001b[0m in \u001b[0;36mpandas._libs.hashtable.PyObjectHashTable.get_item\u001b[0;34m()\u001b[0m\n",
      "\u001b[0;32mpandas/_libs/hashtable_class_helper.pxi\u001b[0m in \u001b[0;36mpandas._libs.hashtable.PyObjectHashTable.get_item\u001b[0;34m()\u001b[0m\n",
      "\u001b[0;31mKeyError\u001b[0m: False"
     ],
     "ename": "KeyError",
     "evalue": "False",
     "output_type": "error"
    }
   ],
   "source": [
    "# indexNames = test[ ('720p' in test['name'])].index\n",
    "# test.drop(indexNames , inplace=False)"
   ]
  },
  {
   "cell_type": "markdown",
   "metadata": {},
   "source": [
    "In case we want to find only urls from the page"
   ]
  },
  {
   "cell_type": "markdown",
   "metadata": {},
   "source": [
    "## Block for choosing the best link:"
   ]
  },
  {
   "cell_type": "code",
   "execution_count": null,
   "metadata": {
    "pycharm": {
     "is_executing": false
    }
   },
   "outputs": [],
   "source": [
    "# curTorrentTable['size'] = \n",
    "\n"
   ]
  },
  {
   "cell_type": "code",
   "execution_count": 47,
   "metadata": {
    "pycharm": {
     "is_executing": false
    }
   },
   "outputs": [
    {
     "name": "stdout",
     "text": [
      "                                                 name    se   le  \\\n",
      "0           Westworld S03E04 720p WEB H264-XLF [eztv]  1419  427   \n",
      "1          Westworld.S03E04.1080p.WEB.H264-XLF[TGx] ⭐   974  399   \n",
      "2   Westworld S03E04 The Mother of Exiles 720p AMZ...   823  206   \n",
      "3                Westworld S03E04 WEB H264-XLF [eztv]   763  238   \n",
      "4         Westworld.S03E04.720p.WEB.x265-MiNX[TGx] ⭐1   606  190   \n",
      "5   Westworld.S03E04.The.Mother.of.Exiles.1080p.AM...   489  170   \n",
      "6                 Westworld.S03E04.1080p.WEB.H264-XLF   401  231   \n",
      "7               Westworld S03E04 480p x264-mSD [eztv]   385   92   \n",
      "8   Westworld.S03E04.The.Mother.of.Exiles.1080p.AM...   359  374   \n",
      "9                 Westworld.S03E04.WEB.H264-XLF[ettv]   378   61   \n",
      "10                 Westworld.S03E04.720p.WEB.H264-XLF   296  107   \n",
      "11          Westworld.S03E04.720p.WEB.H264-XLF[TGx] ⭐   151   15   \n",
      "12                   Westworld.S03E04.XviD-AFG[TGx] ⭐    87   29   \n",
      "13               Westworld.S03E04.WEB.H264-XLF[TGx] ⭐    67   13   \n",
      "14  Westworld.S03E04.The.Mother.of.Exiles.720p.AMZ...    48   10   \n",
      "15  Westworld.S03E04.The.Mother.of.Exiles.720p.AMZ...    43   20   \n",
      "16                      Westworld.S03E04.WEB.H264-XLF    33    6   \n",
      "17                 Westworld.S03E04.WEBRip.x264-ION10    14    5   \n",
      "18  Westworld (2016) S03E04 The Mother of Exiles (...    15   17   \n",
      "19  Westworld S03E04 (1080p AMZN WEB-DL x265 HEVC ...     7    6   \n",
      "\n",
      "                  time size info    uploader  \\\n",
      "0  2020-04-06 03:03:00       NaN      EZTVag   \n",
      "1  2020-04-06 03:11:00       NaN  mazemaze16   \n",
      "2  2020-04-06 03:32:00       NaN      EZTVag   \n",
      "3  2020-04-06 03:02:00       NaN      EZTVag   \n",
      "4  2020-04-06 03:36:00       NaN  mazemaze16   \n",
      "5  2020-04-06 03:32:00       NaN  mazemaze16   \n",
      "6  2020-04-06 07:40:00       NaN     MrStark   \n",
      "7  2020-04-06 03:11:00       NaN      EZTVag   \n",
      "8  2020-04-06 07:40:00       NaN     MrStark   \n",
      "9  2020-04-06 03:05:00       NaN        ETTV   \n",
      "10 2020-04-06 07:39:00       NaN     MrStark   \n",
      "11 2020-04-06 03:03:00       NaN  mazemaze16   \n",
      "12 2020-04-06 03:16:00       NaN  mazemaze16   \n",
      "13 2020-04-06 03:02:00       NaN  mazemaze16   \n",
      "14 2020-04-06 03:15:00       NaN  mazemaze16   \n",
      "15 2020-04-06 07:40:00       NaN     MrStark   \n",
      "16 2020-04-06 07:39:00       NaN     MrStark   \n",
      "17 2020-04-06 07:42:00       NaN     MrStark   \n",
      "18 2020-04-06 10:41:00       NaN        Goki   \n",
      "19 2020-04-06 07:38:00       NaN     UTRCorp   \n",
      "\n",
      "                                                  url    size  \n",
      "0   /torrent/4393077/Westworld-S03E04-720p-WEB-H26...   896.1  \n",
      "1   /torrent/4393086/Westworld-S03E04-1080p-WEB-H2...  2457.6  \n",
      "2   /torrent/4393103/Westworld-S03E04-The-Mother-o...   964.6  \n",
      "3   /torrent/4393075/Westworld-S03E04-WEB-H264-XLF...   251.5  \n",
      "4   /torrent/4393106/Westworld-S03E04-720p-WEB-x26...   221.3  \n",
      "5   /torrent/4393102/Westworld-S03E04-The-Mother-o...  3584.0  \n",
      "6   /torrent/4393389/Westworld-S03E04-1080p-WEB-H2...  2457.6  \n",
      "7   /torrent/4393085/Westworld-S03E04-480p-x264-mS...   225.5  \n",
      "8   /torrent/4393391/Westworld-S03E04-The-Mother-o...  3584.0  \n",
      "9   /torrent/4393082/Westworld-S03E04-WEB-H264-XLF...   251.5  \n",
      "10  /torrent/4393388/Westworld-S03E04-720p-WEB-H26...   896.1  \n",
      "11  /torrent/4393078/Westworld-S03E04-720p-WEB-H26...   896.1  \n",
      "12    /torrent/4393089/Westworld-S03E04-XviD-AFG-TGx/   403.4  \n",
      "13  /torrent/4393076/Westworld-S03E04-WEB-H264-XLF...   251.5  \n",
      "14  /torrent/4393088/Westworld-S03E04-The-Mother-o...   964.6  \n",
      "15  /torrent/4393390/Westworld-S03E04-The-Mother-o...   964.6  \n",
      "16    /torrent/4393387/Westworld-S03E04-WEB-H264-XLF/   251.5  \n",
      "17  /torrent/4393392/Westworld-S03E04-WEBRip-x264-...   587.6  \n",
      "18  /torrent/4393575/Westworld-2016-S03E04-The-Mot...  1433.6  \n",
      "19  /torrent/4393386/Westworld-S03E04-1080p-AMZN-W...  1228.8  \n",
      "                se          le         size\n",
      "count    20.000000   20.000000    20.000000\n",
      "mean    367.900000  130.800000  1138.575000\n",
      "std     385.941215  141.872663  1062.989545\n",
      "min       7.000000    5.000000   221.300000\n",
      "25%      46.750000   14.500000   251.500000\n",
      "50%     327.500000   76.500000   896.100000\n",
      "75%     518.250000  212.250000  1280.000000\n",
      "max    1419.000000  427.000000  3584.000000\n"
     ],
     "output_type": "stream"
    }
   ],
   "source": [
    "print(test)\n",
    "print(test.describe())"
   ]
  },
  {
   "cell_type": "code",
   "execution_count": 48,
   "metadata": {
    "pycharm": {
     "is_executing": false
    }
   },
   "outputs": [],
   "source": [
    "best_torrent = test.loc[test.name.str.contains('1080p')]['url'].iloc[0] # TODO: add better choosing technique"
   ]
  },
  {
   "cell_type": "markdown",
   "metadata": {},
   "source": [
    "## Pulling out a magnet link:"
   ]
  },
  {
   "cell_type": "code",
   "execution_count": 49,
   "metadata": {
    "pycharm": {
     "is_executing": false
    }
   },
   "outputs": [
    {
     "name": "stdout",
     "text": [
      "Page is ready!\n"
     ],
     "output_type": "stream"
    },
    {
     "data": {
      "text/plain": "<selenium.webdriver.remote.webelement.WebElement (session=\"23a9a6da9941cc73776f9baca50ea892\", element=\"e415892e-e2b7-4ec3-b10b-e573b4e7d5f3\")>"
     },
     "metadata": {},
     "output_type": "execute_result",
     "execution_count": 49
    }
   ],
   "source": [
    "# DRIVER_PATH = '/Users/Alexey/PycharmProjects/Scrapping/chromedriver'\n",
    "# driver = webdriver.Chrome(executable_path=DRIVER_PATH)\n",
    "best_torrent_link = \"https://1337x.gd\" + best_torrent\n",
    "driver.get(best_torrent_link)\n",
    "waitForElement(driver, element_info=\"//div[contains(@class,'search-box')]\")"
   ]
  },
  {
   "cell_type": "code",
   "execution_count": 50,
   "metadata": {
    "pycharm": {
     "is_executing": false
    }
   },
   "outputs": [],
   "source": [
    "import time\n",
    "\n",
    "final_page = BeautifulSoup(driver.page_source, 'html.parser')\n",
    "driver.close()  # IMPORTANT\n",
    "# print(final_page.prettify())"
   ]
  },
  {
   "cell_type": "markdown",
   "metadata": {},
   "source": [
    "extracting magnet:"
   ]
  },
  {
   "cell_type": "code",
   "execution_count": 51,
   "metadata": {
    "pycharm": {
     "is_executing": false
    }
   },
   "outputs": [],
   "source": [
    "magnet_link = str()\n",
    "for a in final_page.find_all('a', href=True):\n",
    "    if 'magnet' in a['href']:\n",
    "        magnet_link = a['href']\n",
    "        break"
   ]
  },
  {
   "cell_type": "markdown",
   "source": [
    "and adding it to transmission-remote with: `system.os('transmission-remote -a \"' + magnet link + '\"')`"
   ],
   "metadata": {
    "collapsed": false
   }
  },
  {
   "cell_type": "code",
   "execution_count": 52,
   "metadata": {
    "pycharm": {
     "is_executing": false
    }
   },
   "outputs": [
    {
     "name": "stdout",
     "text": [
      "transmission-remote -a \"magnet:?xt=urn:btih:34F466B0ACD1220C61CE3F7DBECC176B8E1B4935&dn=Westworld.S03E04.1080p.WEB.H264-XLF%5BTGx%5D+%E2%AD%90&tr=udp%3A%2F%2Ftracker.coppersurfer.tk%3A6969%2Fannounce&tr=udp%3A%2F%2Ftracker.leechers-paradise.org%3A6969%2Fannounce&tr=udp%3A%2F%2Fopen.stealth.si%3A80%2Fannounce&tr=udp%3A%2F%2Fexodus.desync.com%3A6969&tr=udp%3A%2F%2Fp4p.arenabg.com%3A1337%2Fannounce&tr=udp%3A%2F%2Fexplodie.org%3A6969%2Fannounce&tr=udp%3A%2F%2Ftracker.opentrackr.org%3A1337%2Fannounce&tr=udp%3A%2F%2Ftracker.tiny-vps.com%3A6969%2Fannounce&tr=udp%3A%2F%2Fopen.demonii.si%3A1337%2Fannounce&tr=udp%3A%2F%2Ftracker.torrent.eu.org%3A451%2Fannounce&tr=udp%3A%2F%2Ftracker.pirateparty.gr%3A6969%2Fannounce&tr=udp%3A%2F%2Fipv4.tracker.harry.lu%3A80%2Fannounce&tr=udp%3A%2F%2Ftracker.cyberia.is%3A6969%2Fannounce&tr=udp%3A%2F%2F9.rarbg.to%3A2710%2Fannounce&tr=udp%3A%2F%2Ftracker.zer0day.to%3A1337%2Fannounce&tr=udp%3A%2F%2Ftracker.leechers-paradise.org%3A6969%2Fannounce&tr=udp%3A%2F%2Fcoppersurfer.tk%3A6969%2Fannounce\"\n"
     ],
     "output_type": "stream"
    }
   ],
   "source": [
    "print('transmission-remote -a \"' + magnet_link +'\"')"
   ]
  },
  {
   "cell_type": "code",
   "execution_count": null,
   "metadata": {
    "pycharm": {
     "is_executing": false
    }
   },
   "outputs": [],
   "source": []
  },
  {
   "cell_type": "code",
   "execution_count": null,
   "metadata": {
    "pycharm": {
     "is_executing": false
    }
   },
   "outputs": [],
   "source": []
  }
 ],
 "metadata": {
  "kernelspec": {
   "display_name": "social_network",
   "language": "python",
   "name": "social_network"
  },
  "language_info": {
   "codemirror_mode": {
    "name": "ipython",
    "version": 3
   },
   "file_extension": ".py",
   "mimetype": "text/x-python",
   "name": "python",
   "nbconvert_exporter": "python",
   "pygments_lexer": "ipython3",
   "version": "3.7.6"
  },
  "pycharm": {
   "stem_cell": {
    "cell_type": "raw",
    "source": [],
    "metadata": {
     "collapsed": false
    }
   }
  }
 },
 "nbformat": 4,
 "nbformat_minor": 4
}