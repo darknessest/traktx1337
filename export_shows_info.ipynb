{
 "cells": [
  {
   "cell_type": "markdown",
   "source": [
    "### Libraries"
   ],
   "metadata": {
    "collapsed": false
   }
  },
  {
   "cell_type": "code",
   "execution_count": null,
   "outputs": [],
   "source": [
    "from urllib.request import Request, urlopen\n",
    "import requests\n",
    "import json\n",
    "import csv\n",
    "#TODO: optimize imports"
   ],
   "metadata": {
    "collapsed": false,
    "pycharm": {
     "name": "#%%\n"
    }
   }
  },
  {
   "cell_type": "markdown",
   "source": [
    "### quick authorization and setup:"
   ],
   "metadata": {
    "collapsed": false
   }
  },
  {
   "cell_type": "code",
   "execution_count": null,
   "outputs": [],
   "source": [
    "_client_id = ''\n",
    "_secret_id = ''\n",
    "\n",
    "print(\"https://trakt.tv/oauth/authorize?response_type=code&client_id={0}&redirect_uri=urn:ietf:wg:oauth:2.0:oob\".format(_client_id))\n",
    "_pincode = str(input('Input PIN: '))  \n",
    "url = 'https://api.trakt.tv' + '/oauth/token'\n",
    "\n",
    "values = {\n",
    "        \"code\": _pincode,\n",
    "        \"client_id\": _client_id,\n",
    "        \"client_secret\": _secret_id,\n",
    "        \"redirect_uri\": \"urn:ietf:wg:oauth:2.0:oob\",\n",
    "        \"grant_type\": \"authorization_code\"\n",
    "        }\n",
    "\n",
    "request = requests.post(url, data=values)\n",
    "response = request.json()\n",
    "Authorization = 'Bearer ' + response[\"access_token\"]\n",
    "\n",
    "headers = {\n",
    "  'Content-Type': 'application/json',\n",
    "  'Authorization': Authorization,\n",
    "  'trakt-api-version': '2',\n",
    "  'trakt-api-key': _client_id\n",
    "}\n"
   ],
   "metadata": {
    "collapsed": false,
    "pycharm": {
     "name": "#%%\n"
    }
   }
  },
  {
   "cell_type": "markdown",
   "source": [
    "### info about a show:"
   ],
   "metadata": {
    "collapsed": false
   }
  },
  {
   "cell_type": "code",
   "execution_count": null,
   "outputs": [],
   "source": [
    "def getLastWatchedEpisode(showTraktID):\n",
    "    \n",
    "    link_to_show = \"https://api.trakt.tv/shows/\" + str(showTraktID) + \"/progress/watched\"\n",
    "    request = Request(link_to_show, headers=headers)\n",
    "\n",
    "    response_body = urlopen(request).read()\n",
    "    my_json = response_body.decode('utf8')\n",
    "\n",
    "    data = json.loads(my_json)\n",
    "    # s = json.dumps(data, indent=4, sort_keys=True)\n",
    "    # print(s)\n",
    "#     print(data['last_episode']['season'], \" \", data['last_episode']['number'])\n",
    "    \n",
    "    return data"
   ],
   "metadata": {
    "collapsed": false,
    "pycharm": {
     "name": "#%%\n"
    }
   }
  },
  {
   "cell_type": "markdown",
   "source": [
    "### info about the last aired episode for a show"
   ],
   "metadata": {
    "collapsed": false
   }
  },
  {
   "cell_type": "code",
   "execution_count": null,
   "outputs": [],
   "source": [
    "def getLastAiredEpisode(showTraktID):\n",
    "    \n",
    "    link_to_show = \"https://api.trakt.tv/shows/\" + str(showTraktID) + \"/last_episode\"\n",
    "    request = Request(link_to_show, headers=headers)\n",
    "\n",
    "    response_body = urlopen(request).read()\n",
    "    my_json = response_body.decode('utf8')\n",
    "\n",
    "    data = json.loads(my_json)\n",
    "    \n",
    "    return data"
   ],
   "metadata": {
    "collapsed": false,
    "pycharm": {
     "name": "#%%\n"
    }
   }
  },
  {
   "cell_type": "markdown",
   "source": [
    "### Get a list of episodes(to be aired) for a week:"
   ],
   "metadata": {
    "collapsed": false
   }
  },
  {
   "cell_type": "code",
   "execution_count": null,
   "outputs": [],
   "source": [
    "def getEpisodesNextWeek(date=\"2020-03-16\", period=7):\n",
    "    \"\"\"\n",
    "        start date in format: yyyy-mm-dd \n",
    "        /\n",
    "        num of days in format: int\n",
    "    \"\"\"\n",
    "\n",
    "    link_to_req = \"https://api.trakt.tv/calendars/my/shows/\" + str(date) + \"/\"+ str(period)\n",
    "\n",
    "    request = Request(link_to_req, headers=headers)\n",
    "    response_body = urlopen(request).read()\n",
    "\n",
    "    my_json = response_body.decode('utf8')\n",
    "\n",
    "    data = json.loads(my_json)\n",
    "    \n",
    "    # s = json.dumps(data, indent=4, sort_keys=True)\n",
    "    # print(s)\n",
    "    return data\n",
    "#     for x in data:\n",
    "#         print(x['show'])\n",
    "        \n",
    "    #TODO: make a proper return"
   ],
   "metadata": {
    "collapsed": false,
    "pycharm": {
     "name": "#%%\n"
    }
   }
  },
  {
   "cell_type": "markdown",
   "source": [
    "### get list of all watching shows:"
   ],
   "metadata": {
    "collapsed": false
   }
  },
  {
   "cell_type": "code",
   "execution_count": null,
   "outputs": [],
   "source": [
    "def getAllShowsForUser(username = 'darknessest'):\n",
    "    \n",
    "    link_all_shows = 'https://api.trakt.tv/users/' + username + '/watched/' + 'shows' + '?extended=noseasons'\n",
    "    request = Request(link_all_shows, headers=headers)\n",
    "\n",
    "    response_body = urlopen(request).read()\n",
    "    my_json = response_body.decode('utf8')\n",
    "\n",
    "    data = json.loads(my_json)\n",
    "    print(len(data))\n",
    "    \n",
    "#     for x in data:\n",
    "#         print(x['show']['title'], \" \", x['show']['ids']['trakt'])\n",
    "    \n",
    "    return data.copy()\n",
    "        \n",
    "    #TODO: make a proper return"
   ],
   "metadata": {
    "collapsed": false,
    "pycharm": {
     "name": "#%%\n"
    }
   }
  },
  {
   "cell_type": "markdown",
   "source": [
    "### Constructing table with shows information:"
   ],
   "metadata": {
    "collapsed": false
   }
  },
  {
   "cell_type": "code",
   "execution_count": null,
   "outputs": [],
   "source": [
    "# shit = getEpisodesNextWeek()"
   ],
   "metadata": {
    "collapsed": false,
    "pycharm": {
     "name": "#%%\n"
    }
   }
  },
  {
   "cell_type": "code",
   "execution_count": null,
   "outputs": [],
   "source": [
    "# for x in shit:\n",
    "#     print(x['episode'])"
   ],
   "metadata": {
    "collapsed": false,
    "pycharm": {
     "name": "#%%\n"
    }
   }
  },
  {
   "cell_type": "code",
   "execution_count": null,
   "outputs": [],
   "source": [
    "import pandas as pd\n",
    "\n",
    "showsProgressTable = pd.DataFrame(columns=['name', 'traktID', 'last watched season', \n",
    "                                        'last watched episode', 'next episode air time',\n",
    "                                        'new season', 'new episode'])"
   ],
   "metadata": {
    "collapsed": false,
    "pycharm": {
     "name": "#%%\n"
    }
   }
  },
  {
   "cell_type": "code",
   "execution_count": null,
   "outputs": [],
   "source": [
    "all_shows_data = getAllShowsForUser()"
   ],
   "metadata": {
    "collapsed": false,
    "pycharm": {
     "name": "#%%\n"
    }
   }
  },
  {
   "cell_type": "code",
   "execution_count": null,
   "outputs": [],
   "source": [
    "showsProgressTable['name'] = [x['show']['title'] for x in all_shows_data]\n",
    "showsProgressTable['traktID'] = [x['show']['ids']['trakt'] for x in all_shows_data]"
   ],
   "metadata": {
    "collapsed": false,
    "pycharm": {
     "name": "#%%\n"
    }
   }
  },
  {
   "cell_type": "code",
   "execution_count": null,
   "outputs": [],
   "source": [
    "print(showsProgressTable.head())\n",
    "# temp_row = showsProgressTable.loc[showsProgressTable['traktID'] == 99718]\n",
    "\n",
    "# print(temp_row)"
   ],
   "metadata": {
    "collapsed": false,
    "pycharm": {
     "name": "#%%\n"
    }
   }
  },
  {
   "cell_type": "markdown",
   "source": [
    "### Fill in info about last shows progress"
   ],
   "metadata": {
    "collapsed": false
   }
  },
  {
   "cell_type": "code",
   "execution_count": null,
   "outputs": [],
   "source": [
    "import time\n",
    "from random import randint\n",
    "\n",
    "for i in range(24, len(showsProgressTable.index)):\n",
    "#     print(row['name'])\n",
    "    print(\"working on \", showsProgressTable.loc[i].at['name'], \" \", i, \" of \", len(showsProgressTable.index)-1 )\n",
    "    ID = showsProgressTable.loc[i].at['traktID']\n",
    "\n",
    "    info = getLastWatchedEpisode(ID)\n",
    "\n",
    "    # set values\n",
    "    showsProgressTable.at[i, 'last watched season'] = info['last_episode']['season']\n",
    "    showsProgressTable.at[i, 'last watched episode'] = info['last_episode']['number']\n",
    "    time.sleep(randint(5, 10))\n",
    "# check\n",
    "if showsProgressTable['last watched season'].notna().sum() == len(showsProgressTable.index) and \\\n",
    "    showsProgressTable['last watched episode'].notna().sum() == len(showsProgressTable.index):\n",
    "        print('last watched info was downloaded completely')"
   ],
   "metadata": {
    "collapsed": false,
    "pycharm": {
     "name": "#%%\n"
    }
   }
  },
  {
   "cell_type": "markdown",
   "source": [
    "### Fill in info about release dates (for a next week):"
   ],
   "metadata": {
    "collapsed": false
   }
  },
  {
   "cell_type": "code",
   "execution_count": null,
   "outputs": [],
   "source": [
    "table = getEpisodesNextWeek()"
   ],
   "metadata": {
    "collapsed": false,
    "pycharm": {
     "name": "#%%\n"
    }
   }
  },
  {
   "cell_type": "code",
   "execution_count": null,
   "outputs": [],
   "source": [
    "for x in table:\n",
    "    showsProgressTable.loc[showsProgressTable['traktID'] == x['show']['ids']['trakt'], ['next episode air time']] = x['first_aired']\n",
    "    showsProgressTable.loc[showsProgressTable['traktID'] == x['show']['ids']['trakt'], ['new season']] = x['episode']['season']\n",
    "    showsProgressTable.loc[showsProgressTable['traktID'] == x['show']['ids']['trakt'], ['new episode']] = x['episode']['number']\n",
    "    "
   ],
   "metadata": {
    "collapsed": false,
    "pycharm": {
     "name": "#%%\n"
    }
   }
  },
  {
   "cell_type": "code",
   "execution_count": null,
   "outputs": [],
   "source": [
    "print(showsProgressTable)"
   ],
   "metadata": {
    "collapsed": false,
    "pycharm": {
     "name": "#%%\n"
    }
   }
  },
  {
   "cell_type": "markdown",
   "source": [
    "### convert data types:"
   ],
   "metadata": {
    "collapsed": false
   }
  },
  {
   "cell_type": "code",
   "execution_count": null,
   "outputs": [],
   "source": [
    "showsProgressTable['next episode air time'] = pd.to_datetime(showsProgressTable['next episode air time'])\n",
    "\n",
    "showsProgressTable = showsProgressTable.astype({'name':'str',\n",
    "                                                'traktID':'int8',\n",
    "                                                'last watched season':'int8',\n",
    "                                                'last watched episode':'int8',\n",
    "#                                                 'new season':'int',\n",
    "#                                                 'new episode':'int'\n",
    "                                               })"
   ],
   "metadata": {
    "collapsed": false,
    "pycharm": {
     "name": "#%%\n"
    }
   }
  },
  {
   "cell_type": "markdown",
   "source": [
    "### save table to a file:"
   ],
   "metadata": {
    "collapsed": false
   }
  },
  {
   "cell_type": "code",
   "execution_count": null,
   "outputs": [],
   "source": [
    "# save\n",
    "showsProgressTable.to_hdf('pd_progress.h5', key='df', mode='w')\n"
   ],
   "metadata": {
    "collapsed": false,
    "pycharm": {
     "name": "#%%\n"
    }
   }
  },
  {
   "cell_type": "markdown",
   "source": [
    "### Fill in the rest of the empty cells:"
   ],
   "metadata": {
    "collapsed": false
   }
  },
  {
   "cell_type": "code",
   "execution_count": null,
   "outputs": [],
   "source": [
    "for i in range(0, len(showsProgressTable.index)):\n",
    "    if pd.isna(showsProgressTable.at[i, 'new season']) == True:\n",
    "        print(\"working on\", showsProgressTable.loc[i].at['name'], \" \", i, \" of \", len(showsProgressTable.index)-1)\n",
    "        ID = showsProgressTable.loc[i].at['traktID']\n",
    "        info = getLastAiredEpisode(ID)\n",
    "\n",
    "        # set values\n",
    "        showsProgressTable.at[i, 'new season'] = info['season']\n",
    "        showsProgressTable.at[i, 'new episode'] = info['number']\n",
    "        time.sleep(randint(5, 10))\n",
    "        \n",
    "# check\n",
    "if showsProgressTable['new season'].notna().sum() == len(showsProgressTable.index) and \\\n",
    "    showsProgressTable['new episode'].notna().sum() == len(showsProgressTable.index):\n",
    "        print('new episode info was downloaded completely')"
   ],
   "metadata": {
    "collapsed": false,
    "pycharm": {
     "name": "#%%\n"
    }
   }
  },
  {
   "cell_type": "code",
   "execution_count": null,
   "outputs": [],
   "source": [
    "print(showsProgressTable.info())"
   ],
   "metadata": {
    "collapsed": false,
    "pycharm": {
     "name": "#%%\n"
    }
   }
  },
  {
   "cell_type": "code",
   "execution_count": null,
   "outputs": [],
   "source": [
    "tab_c = showsProgressTable.copy()\n",
    "\n",
    "tab_c['next episode air time'] = pd.to_datetime(tab_c['next episode air time'])\n",
    "\n",
    "tab_c = tab_c.astype({'name':'str',\n",
    "                      'traktID':'uint64',\n",
    "                      'last watched season':'uint8',\n",
    "                      'last watched episode':'uint8',\n",
    "                      'new season':'uint8',\n",
    "                      'new episode':'uint8'\n",
    "                                               })"
   ],
   "metadata": {
    "collapsed": false,
    "pycharm": {
     "name": "#%%\n"
    }
   }
  },
  {
   "cell_type": "code",
   "execution_count": null,
   "outputs": [],
   "source": [
    "tab_c.head()"
   ],
   "metadata": {
    "collapsed": false,
    "pycharm": {
     "name": "#%%\n"
    }
   }
  },
  {
   "cell_type": "code",
   "execution_count": null,
   "outputs": [],
   "source": [
    "tab_c.to_hdf('pd_progress.h5', key='df', mode='w')"
   ],
   "metadata": {
    "collapsed": false,
    "pycharm": {
     "name": "#%%\n"
    }
   }
  },
  {
   "cell_type": "code",
   "execution_count": null,
   "outputs": [],
   "source": [],
   "metadata": {
    "collapsed": false,
    "pycharm": {
     "name": "#%%\n"
    }
   }
  }
 ],
 "metadata": {
  "kernelspec": {
   "display_name": "social_network",
   "language": "python",
   "name": "social_network"
  },
  "language_info": {
   "codemirror_mode": {
    "name": "ipython",
    "version": 3
   },
   "file_extension": ".py",
   "mimetype": "text/x-python",
   "name": "python",
   "nbconvert_exporter": "python",
   "pygments_lexer": "ipython3",
   "version": "3.7.6"
  },
  "pycharm": {
   "stem_cell": {
    "cell_type": "raw",
    "source": [],
    "metadata": {
     "collapsed": false
    }
   }
  }
 },
 "nbformat": 4,
 "nbformat_minor": 4
}